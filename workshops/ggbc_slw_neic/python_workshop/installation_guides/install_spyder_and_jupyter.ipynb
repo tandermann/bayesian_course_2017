{
 "cells": [
  {
   "cell_type": "markdown",
   "metadata": {},
   "source": [
    "### Mac/Linux\n",
    "\n",
    "- download miniconda from https://conda.io/miniconda.html (**python3.7** version)\n",
    "- install on your machine, using the command line (`sh /path/to/miniconda_download.sh`)\n",
    "- `pip install spyder`\n",
    "- `pip install jupyter`\n",
    "- `jupyter notebook`"
   ]
  },
  {
   "cell_type": "markdown",
   "metadata": {},
   "source": [
    "### Windows\n",
    "\n",
    "- download miniconda from https://anaconda.com/download (**python3.7** version)\n",
    "- install on your machine (double-click on downloaded file)\n",
    "- start conda command promt\n",
    "- `conda install jupyter`\n",
    "- optional: `conda install spyder`\n",
    "- `jupyter notebook`"
   ]
  }
 ],
 "metadata": {
  "kernelspec": {
   "display_name": "Python 3",
   "language": "python",
   "name": "python3"
  },
  "language_info": {
   "codemirror_mode": {
    "name": "ipython",
    "version": 3
   },
   "file_extension": ".py",
   "mimetype": "text/x-python",
   "name": "python",
   "nbconvert_exporter": "python",
   "pygments_lexer": "ipython3",
   "version": "3.6.4"
  }
 },
 "nbformat": 4,
 "nbformat_minor": 2
}
